{
 "cells": [
  {
   "cell_type": "code",
   "execution_count": 1,
   "metadata": {},
   "outputs": [],
   "source": [
    "from dataclasses import dataclass, field\n",
    "\n",
    "@dataclass\n",
    "class Node:\n",
    "    text: str  # some text value.\n",
    "    children: list[\"Node\"] = field(default_factory=list)\n",
    "    _path: list[int] = field(default_factory=list)\n",
    "    _chars: int = 0\n",
    "\n",
    "    # def __repr__(self, indent_level: int = 0):\n",
    "    #     base = \"  \" * indent_level + f\"text={self.text} chars={self.chars}\"\n",
    "    #     if len(self.children) > 0:\n",
    "    #         base += \"\\n\"\n",
    "    #         for child in self.children:\n",
    "    #             base += child.__repr__(indent_level + 1)\n",
    "    #             base += \"\\n\"\n",
    "    #     return base"
   ]
  },
  {
   "cell_type": "code",
   "execution_count": 2,
   "metadata": {},
   "outputs": [],
   "source": [
    "def format(node: Node, indent_level: int = 0, cumul_ub=0, parent_path: list[int] = []) -> Node:\n",
    "    indent = \"  \" * indent_level\n",
    "    # Start with role and optional text\n",
    "    result = f\"{indent}{node.text}\" \n",
    "    # Recursively format children\n",
    "    if len(node.children) > 0:\n",
    "        result += \" {\\n\"\n",
    "        for i, child in enumerate(node.children):\n",
    "            result += format(child, indent_level + 1, cumul_ub + len(node.text) + 10*(indent_level+1), parent_path + [i])\n",
    "        result += indent + \"}\\n\"\n",
    "    else:\n",
    "        result += \"\\n\"\n",
    "\n",
    "    node._subtree_chars = len(result)\n",
    "    node._chars = len(result) + cumul_ub\n",
    "    node._path = parent_path\n",
    "\n",
    "    return result\n",
    "\n",
    "def func(node: Node) -> tuple[Node, str]:\n",
    "    f = format(node)\n",
    "    return node, f"
   ]
  },
  {
   "cell_type": "code",
   "execution_count": 3,
   "metadata": {},
   "outputs": [],
   "source": [
    "tree, f = func(Node(\n",
    "    text=\"root-fjeowhfuohewu\",\n",
    "    children=[\n",
    "        Node(text=\"mektoub\",children=[]),\n",
    "        Node(text=\"child0-urwoewjs\", children=[Node(text=\"child0.0-fejwoujfow\")]),\n",
    "        Node(text=\"child0-urwoewjs\", children=[Node(text=\"child0.0-fejwoujfow\")]),\n",
    "        Node(text=\"child1-fjoewiklrfn\"),\n",
    "        Node(\n",
    "            text=\"child2-ufiejkndsv\",\n",
    "            children=[\n",
    "                Node(text=\"child2.1-jfeouwjnkfdsjfkdnkqwfeuwifhuew\", children=[Node(text=\"child2.1.0-jfeouwjnkfdsjfkdnkqwfeuwifhuew\")]),\n",
    "                Node(text=\"child2.2-jfeouwjnkfdsjfkdnkqw\"),\n",
    "            ],\n",
    "        ),\n",
    "    ],\n",
    "))"
   ]
  },
  {
   "cell_type": "code",
   "execution_count": 4,
   "metadata": {},
   "outputs": [],
   "source": [
    "def find_node_by_path(root: Node, path: list[int]) -> Node:\n",
    "    way = path[0] if len(path) > 0 else None\n",
    "    if way is None:\n",
    "        return root\n",
    "    return find_node(root.children[way], path[1:])"
   ]
  },
  {
   "cell_type": "code",
   "execution_count": 5,
   "metadata": {},
   "outputs": [],
   "source": [
    "def partial_tree_by_path(root: Node, path: list[int]) -> Node:\n",
    "    way = path[0] if len(path) > 0 else None\n",
    "    if way is None:\n",
    "        return root\n",
    "    subtree = partial_tree_by_path(root.children[way], path[1:])\n",
    "    return Node(text=root.text, children=[subtree])"
   ]
  },
  {
   "cell_type": "code",
   "execution_count": 6,
   "metadata": {},
   "outputs": [
    {
     "name": "stdout",
     "output_type": "stream",
     "text": [
      "root-fjeowhfuohewu {\n",
      "  mektoub\n",
      "  child0-urwoewjs {\n",
      "    child0.0-fejwoujfow\n",
      "  }\n",
      "  child0-urwoewjs {\n",
      "    child0.0-fejwoujfow\n",
      "  }\n",
      "  child1-fjoewiklrfn\n",
      "  child2-ufiejkndsv {\n",
      "    child2.1-jfeouwjnkfdsjfkdnkqwfeuwifhuew {\n",
      "      child2.1.0-jfeouwjnkfdsjfkdnkqwfeuwifhuew\n",
      "    }\n",
      "    child2.2-jfeouwjnkfdsjfkdnkqw\n",
      "  }\n",
      "}\n",
      "\n"
     ]
    }
   ],
   "source": [
    "print(format(tree))"
   ]
  },
  {
   "cell_type": "code",
   "execution_count": 8,
   "metadata": {},
   "outputs": [
    {
     "name": "stdout",
     "output_type": "stream",
     "text": [
      "root-fjeowhfuohewu {\n",
      "  child2-ufiejkndsv {\n",
      "    child2.1-jfeouwjnkfdsjfkdnkqwfeuwifhuew {\n",
      "      child2.1.0-jfeouwjnkfdsjfkdnkqwfeuwifhuew\n",
      "    }\n",
      "  }\n",
      "}\n",
      "\n"
     ]
    }
   ],
   "source": [
    "print(format(partial_tree_by_path(tree, [4,0,0])))"
   ]
  },
  {
   "cell_type": "code",
   "execution_count": 9,
   "metadata": {},
   "outputs": [
    {
     "data": {
      "text/plain": [
       "[0]"
      ]
     },
     "execution_count": 9,
     "metadata": {},
     "output_type": "execute_result"
    }
   ],
   "source": [
    "tree.children[0]._path"
   ]
  },
  {
   "cell_type": "code",
   "execution_count": 10,
   "metadata": {},
   "outputs": [],
   "source": [
    "def split(node: Node, threshold: int) -> list[tuple[Node, int]]:\n",
    "    if node._chars <= threshold:\n",
    "        return [(node._chars, node._path)]\n",
    "    if len(node.children) == 0:\n",
    "        raise ValueError(\"Move to notte.sdk to handle very long context webpages.\")\n",
    "    ls = []\n",
    "    for child in node.children:\n",
    "        if child._chars <= threshold:\n",
    "            ls.append((child._chars, child._path))\n",
    "        else:\n",
    "            ls.extend(split(child, threshold))\n",
    "    return ls"
   ]
  },
  {
   "cell_type": "code",
   "execution_count": 11,
   "metadata": {},
   "outputs": [],
   "source": [
    "gamma = 165\n",
    "chars, paths = list(map(list, zip(*split(tree, gamma))))"
   ]
  },
  {
   "cell_type": "code",
   "execution_count": 12,
   "metadata": {},
   "outputs": [
    {
     "data": {
      "text/plain": [
       "[38, 76, 76, 49, 165, 99]"
      ]
     },
     "execution_count": 12,
     "metadata": {},
     "output_type": "execute_result"
    }
   ],
   "source": [
    "chars"
   ]
  },
  {
   "cell_type": "code",
   "execution_count": 13,
   "metadata": {},
   "outputs": [
    {
     "data": {
      "text/plain": [
       "[[0], [1], [2], [3], [4, 0], [4, 1]]"
      ]
     },
     "execution_count": 13,
     "metadata": {},
     "output_type": "execute_result"
    }
   ],
   "source": [
    "paths"
   ]
  },
  {
   "cell_type": "code",
   "execution_count": 14,
   "metadata": {},
   "outputs": [],
   "source": [
    "def partition_array(arr, gamma):\n",
    "    n = len(arr)\n",
    "    \n",
    "    # dp to track minimum partitions\n",
    "    # dp[i] will store the minimum number of partitions for subarray up to index i\n",
    "    dp = [float('inf')] * n\n",
    "\n",
    "    # stores the indices where partitions start\n",
    "    partition_starts = [[] for _ in range(n)]\n",
    "    \n",
    "    # base case: first element\n",
    "    if arr[0] <= gamma:\n",
    "        dp[0] = 1\n",
    "        partition_starts[0] = [[0]]\n",
    "    \n",
    "    # fill dp table\n",
    "    for i in range(1, n):\n",
    "        # try all possible last partition starting points\n",
    "        curr_sum = 0\n",
    "        for j in range(i, -1, -1):\n",
    "            curr_sum += arr[j]\n",
    "            \n",
    "            # if current sum exceeds gamma, break\n",
    "            if curr_sum > gamma:\n",
    "                break\n",
    "            \n",
    "            # calculate partitions up to j-1\n",
    "            prev_partitions = float('inf')\n",
    "            if j > 0:\n",
    "                prev_partitions = dp[j-1]\n",
    "            else:\n",
    "                prev_partitions = 0\n",
    "            \n",
    "            # update if we find a better partitioning\n",
    "            if prev_partitions + 1 < dp[i]:\n",
    "                dp[i] = prev_partitions + 1\n",
    "                \n",
    "                # copy previous partitions and add current partition\n",
    "                if j > 0:\n",
    "                    partition_starts[i] = [p + [j] for p in partition_starts[j-1]]\n",
    "                else:\n",
    "                    partition_starts[i] = [[j]]\n",
    "    \n",
    "    # find the best partitioning\n",
    "    if dp[n-1] == float('inf'):\n",
    "        return []\n",
    "    \n",
    "    # reconstruct the actual partitions\n",
    "    best_partitions = partition_starts[n-1][0]\n",
    "    best_partitions.append(n)\n",
    "    \n",
    "    # convert partition starts to actual partitions\n",
    "    result_partitions = []\n",
    "    for start, end in zip(best_partitions[:-1], best_partitions[1:]):\n",
    "        result_partitions.append(list(range(start, end)))\n",
    "    \n",
    "    return result_partitions"
   ]
  },
  {
   "cell_type": "code",
   "execution_count": 15,
   "metadata": {},
   "outputs": [],
   "source": [
    "def merge_trees(trees: list[Node]) -> Node | None:\n",
    "    # Check if the list is empty\n",
    "    if not trees:\n",
    "        return None\n",
    "    \n",
    "    # Check if all trees have the same root text\n",
    "    root_text = trees[0].text\n",
    "    if not all(tree.text == root_text for tree in trees):\n",
    "        raise ValueError(\"Cannot merge trees with different root texts\")\n",
    "    \n",
    "    # Create a new merged tree with the same root\n",
    "    merged_tree = Node(text=root_text)\n",
    "    \n",
    "    # Create a dictionary to track children by their text across all trees\n",
    "    children_map = {}\n",
    "    \n",
    "    # Collect children from all trees\n",
    "    for tree in trees:\n",
    "        for child in tree.children:\n",
    "            if child.text not in children_map:\n",
    "                children_map[child.text] = []\n",
    "            children_map[child.text].append(child)\n",
    "    \n",
    "    # Process each unique child text\n",
    "    for child_text, child_nodes in children_map.items():\n",
    "        # If multiple children with the same text exist, recursively merge them\n",
    "        if len(child_nodes) > 1:\n",
    "            merged_child = merge_trees(child_nodes)\n",
    "            merged_tree.children.append(merged_child)\n",
    "        else:\n",
    "            # If only one child exists, add it directly\n",
    "            merged_tree.children.append(child_nodes[0])\n",
    "    \n",
    "    return merged_tree"
   ]
  },
  {
   "cell_type": "code",
   "execution_count": 16,
   "metadata": {},
   "outputs": [],
   "source": [
    "partitions = partition_array(chars, gamma)"
   ]
  },
  {
   "cell_type": "code",
   "execution_count": 17,
   "metadata": {},
   "outputs": [
    {
     "data": {
      "text/plain": [
       "[[0, 1], [2, 3], [4], [5]]"
      ]
     },
     "execution_count": 17,
     "metadata": {},
     "output_type": "execute_result"
    }
   ],
   "source": [
    "partitions"
   ]
  },
  {
   "cell_type": "code",
   "execution_count": 18,
   "metadata": {},
   "outputs": [
    {
     "name": "stdout",
     "output_type": "stream",
     "text": [
      "root-fjeowhfuohewu {\n",
      "  mektoub\n",
      "  child0-urwoewjs {\n",
      "    child0.0-fejwoujfow\n",
      "  }\n",
      "}\n",
      "\n",
      "root-fjeowhfuohewu {\n",
      "  child0-urwoewjs {\n",
      "    child0.0-fejwoujfow\n",
      "  }\n",
      "  child1-fjoewiklrfn\n",
      "}\n",
      "\n",
      "root-fjeowhfuohewu {\n",
      "  child2-ufiejkndsv {\n",
      "    child2.1-jfeouwjnkfdsjfkdnkqwfeuwifhuew {\n",
      "      child2.1.0-jfeouwjnkfdsjfkdnkqwfeuwifhuew\n",
      "    }\n",
      "  }\n",
      "}\n",
      "\n",
      "root-fjeowhfuohewu {\n",
      "  child2-ufiejkndsv {\n",
      "    child2.2-jfeouwjnkfdsjfkdnkqw\n",
      "  }\n",
      "}\n",
      "\n"
     ]
    }
   ],
   "source": [
    "trs = []\n",
    "for partition in partitions:\n",
    "    if len(partition) > 1:\n",
    "        _paths = [paths[i] for i in partition]\n",
    "        partials = [partial_tree_by_path(tree, path) for path in _paths]\n",
    "        merged = merge_trees(partials)\n",
    "        print(format(merged))\n",
    "        trs.append(merged)\n",
    "    else:\n",
    "        path = paths[partition[0]]\n",
    "        partial = partial_tree_by_path(tree, path)\n",
    "        print(format(partial))\n",
    "        trs.append(partial)"
   ]
  },
  {
   "cell_type": "code",
   "execution_count": 19,
   "metadata": {},
   "outputs": [
    {
     "data": {
      "text/plain": [
       "False"
      ]
     },
     "execution_count": 19,
     "metadata": {},
     "output_type": "execute_result"
    }
   ],
   "source": [
    "format(merge_trees(trs)) == format(tree)"
   ]
  },
  {
   "cell_type": "code",
   "execution_count": null,
   "metadata": {},
   "outputs": [],
   "source": []
  }
 ],
 "metadata": {
  "kernelspec": {
   "display_name": "notte-66cH2NsQ-py3.11",
   "language": "python",
   "name": "python3"
  },
  "language_info": {
   "codemirror_mode": {
    "name": "ipython",
    "version": 3
   },
   "file_extension": ".py",
   "mimetype": "text/x-python",
   "name": "python",
   "nbconvert_exporter": "python",
   "pygments_lexer": "ipython3",
   "version": "3.11.10"
  }
 },
 "nbformat": 4,
 "nbformat_minor": 2
}
